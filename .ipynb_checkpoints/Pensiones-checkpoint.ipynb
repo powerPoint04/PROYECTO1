{
 "cells": [
  {
   "cell_type": "code",
   "execution_count": 27,
   "id": "3457fb06",
   "metadata": {},
   "outputs": [
    {
     "data": {
      "text/plain": [
       "2"
      ]
     },
     "execution_count": 27,
     "metadata": {},
     "output_type": "execute_result"
    }
   ],
   "source": [
    "1+1"
   ]
  },
  {
   "cell_type": "code",
   "execution_count": 28,
   "id": "da0b3ae0",
   "metadata": {},
   "outputs": [],
   "source": [
    "import matplotlib.pyplot as plt"
   ]
  },
  {
   "cell_type": "code",
   "execution_count": 29,
   "id": "2a1f116b",
   "metadata": {},
   "outputs": [],
   "source": [
    "import pandas as pd"
   ]
  },
  {
   "cell_type": "code",
   "execution_count": 30,
   "id": "d89747e1",
   "metadata": {},
   "outputs": [],
   "source": [
    "df = pd.read_csv(r'C:\\Users\\pablo\\Desktop\\cuatri 2\\proy I\\pensiones.csv',delimiter=';', encoding='latin1')"
   ]
  },
  {
   "cell_type": "code",
   "execution_count": 31,
   "id": "27f1447e",
   "metadata": {},
   "outputs": [
    {
     "data": {
      "text/html": [
       "<div>\n",
       "<style scoped>\n",
       "    .dataframe tbody tr th:only-of-type {\n",
       "        vertical-align: middle;\n",
       "    }\n",
       "\n",
       "    .dataframe tbody tr th {\n",
       "        vertical-align: top;\n",
       "    }\n",
       "\n",
       "    .dataframe thead th {\n",
       "        text-align: right;\n",
       "    }\n",
       "</style>\n",
       "<table border=\"1\" class=\"dataframe\">\n",
       "  <thead>\n",
       "    <tr style=\"text-align: right;\">\n",
       "      <th></th>\n",
       "      <th>Número Total</th>\n",
       "      <th>P.Media Total</th>\n",
       "      <th>Número Incapacidad Permanente</th>\n",
       "      <th>PM Incapacidad Permanente</th>\n",
       "      <th>Número Jubilación</th>\n",
       "      <th>PM Jubilación</th>\n",
       "      <th>Número Viudedad</th>\n",
       "      <th>PM Viudedad</th>\n",
       "    </tr>\n",
       "  </thead>\n",
       "  <tbody>\n",
       "    <tr>\n",
       "      <th>0</th>\n",
       "      <td>9923175</td>\n",
       "      <td>1086.52</td>\n",
       "      <td>952160</td>\n",
       "      <td>1034.57</td>\n",
       "      <td>6234609</td>\n",
       "      <td>1250.37</td>\n",
       "      <td>2349915</td>\n",
       "      <td>775.99</td>\n",
       "    </tr>\n",
       "  </tbody>\n",
       "</table>\n",
       "</div>"
      ],
      "text/plain": [
       "   Número Total  P.Media Total  Número Incapacidad Permanente  \\\n",
       "0       9923175        1086.52                         952160   \n",
       "\n",
       "    PM Incapacidad Permanente  Número Jubilación  PM Jubilación  \\\n",
       "0                     1034.57            6234609        1250.37   \n",
       "\n",
       "   Número Viudedad  PM Viudedad  \n",
       "0          2349915       775.99  "
      ]
     },
     "execution_count": 31,
     "metadata": {},
     "output_type": "execute_result"
    }
   ],
   "source": [
    "df"
   ]
  },
  {
   "cell_type": "code",
   "execution_count": 32,
   "id": "21732fc2",
   "metadata": {},
   "outputs": [
    {
     "data": {
      "text/plain": [
       "Número Total                     9923175.0\n",
       "Número Incapacidad Permanente     952160.0\n",
       "Número Jubilación                6234609.0\n",
       "Número Viudedad                  2349915.0\n",
       "Name: 0, dtype: float64"
      ]
     },
     "execution_count": 32,
     "metadata": {},
     "output_type": "execute_result"
    }
   ],
   "source": [
    "df.iloc[0,[0,2,4,6]]"
   ]
  },
  {
   "cell_type": "code",
   "execution_count": 33,
   "id": "9d3ed0d0",
   "metadata": {},
   "outputs": [],
   "source": [
    "s = df.iloc[0,[0,2,4,6]]"
   ]
  },
  {
   "cell_type": "code",
   "execution_count": 34,
   "id": "20e27058",
   "metadata": {},
   "outputs": [],
   "source": [
    "a = s.index"
   ]
  },
  {
   "cell_type": "code",
   "execution_count": 35,
   "id": "1795b5cf",
   "metadata": {},
   "outputs": [],
   "source": [
    "b = s.values"
   ]
  },
  {
   "cell_type": "code",
   "execution_count": 36,
   "id": "827c763c",
   "metadata": {},
   "outputs": [],
   "source": [
    "l = []\n",
    "for i in b:\n",
    "    a = i/1000000\n",
    "    l.append(a)"
   ]
  },
  {
   "cell_type": "code",
   "execution_count": 37,
   "id": "0c31fe18",
   "metadata": {},
   "outputs": [
    {
     "ename": "NameError",
     "evalue": "name 'k' is not defined",
     "output_type": "error",
     "traceback": [
      "\u001b[1;31m---------------------------------------------------------------------------\u001b[0m",
      "\u001b[1;31mNameError\u001b[0m                                 Traceback (most recent call last)",
      "\u001b[1;32m~\\AppData\\Local\\Temp\\ipykernel_14272\\3760656076.py\u001b[0m in \u001b[0;36m<module>\u001b[1;34m\u001b[0m\n\u001b[1;32m----> 1\u001b[1;33m \u001b[0mk\u001b[0m\u001b[1;33m\u001b[0m\u001b[1;33m\u001b[0m\u001b[0m\n\u001b[0m",
      "\u001b[1;31mNameError\u001b[0m: name 'k' is not defined"
     ]
    }
   ],
   "source": [
    "k"
   ]
  },
  {
   "cell_type": "code",
   "execution_count": 38,
   "id": "7946e990",
   "metadata": {},
   "outputs": [],
   "source": [
    "k = s.index"
   ]
  },
  {
   "cell_type": "code",
   "execution_count": 39,
   "id": "c63231ad",
   "metadata": {},
   "outputs": [
    {
     "data": {
      "image/png": "[encoded data removed]",
      "text/plain": [
       "<Figure size 640x480 with 1 Axes>"
      ]
     },
     "metadata": {},
     "output_type": "display_data"
    }
   ],
   "source": [
    "fig, ax = plt.subplots()\n",
    "ax.barh(k,l)\n",
    "ax.set_title('Número pensiones por tipo en millones')\n",
    "ax.grid(axis='x')\n",
    "None"
   ]
  },
  {
   "cell_type": "code",
   "execution_count": 40,
   "id": "69c88886",
   "metadata": {},
   "outputs": [],
   "source": [
    "f = s = df.iloc[0,[1,3,5,7]]"
   ]
  },
  {
   "cell_type": "code",
   "execution_count": 41,
   "id": "d674355f",
   "metadata": {},
   "outputs": [
    {
     "data": {
      "text/plain": [
       "P.Media Total                 1086.52\n",
       " PM Incapacidad Permanente    1034.57\n",
       "PM Jubilación                 1250.37\n",
       "PM Viudedad                    775.99\n",
       "Name: 0, dtype: float64"
      ]
     },
     "execution_count": 41,
     "metadata": {},
     "output_type": "execute_result"
    }
   ],
   "source": [
    "f"
   ]
  },
  {
   "cell_type": "code",
   "execution_count": 42,
   "id": "a7ebb6bd",
   "metadata": {},
   "outputs": [],
   "source": [
    "u = f.index"
   ]
  },
  {
   "cell_type": "code",
   "execution_count": 43,
   "id": "890550b6",
   "metadata": {},
   "outputs": [],
   "source": [
    "v = f.values"
   ]
  },
  {
   "cell_type": "code",
   "execution_count": 44,
   "id": "b120cb6e",
   "metadata": {},
   "outputs": [
    {
     "data": {
      "image/png": "[encoded data removed]",
      "text/plain": [
       "<Figure size 640x480 with 1 Axes>"
      ]
     },
     "metadata": {},
     "output_type": "display_data"
    }
   ],
   "source": [
    "fig, ax = plt.subplots()\n",
    "ax.barh(u,v)\n",
    "ax.set_title('Pensión media por tipo en €')\n",
    "ax.grid(axis='x')\n",
    "None"
   ]
  },
  {
   "cell_type": "code",
   "execution_count": null,
   "id": "ab424b05",
   "metadata": {},
   "outputs": [],
   "source": []
  }
 ],
 "metadata": {
  "kernelspec": {
   "display_name": "Python 3 (ipykernel)",
   "language": "python",
   "name": "python3"
  },
  "language_info": {
   "codemirror_mode": {
    "name": "ipython",
    "version": 3
   },
   "file_extension": ".py",
   "mimetype": "text/x-python",
   "name": "python",
   "nbconvert_exporter": "python",
   "pygments_lexer": "ipython3",
   "version": "3.9.13"
  }
 },
 "nbformat": 4,
 "nbformat_minor": 5
}
